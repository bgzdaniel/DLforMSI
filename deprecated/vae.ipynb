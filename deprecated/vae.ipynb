{
 "cells": [
  {
   "cell_type": "code",
   "execution_count": 1,
   "metadata": {},
   "outputs": [
    {
     "name": "stdout",
     "output_type": "stream",
     "text": [
      "[Sun Nov 21 19:11:53 2021 \n",
      "1.929] baseline-correction None\n",
      "[1.929] baseline-correction-hw 50\n",
      "[1.929] smoothing None\n",
      "[1.929] smoothing-hw 2\n",
      "[1.929] normalization None\n",
      "[1.929] pooling Maximum\n",
      "[1.929] tolerance 0\n",
      "[1.929] threads 24\n",
      "[1.929] Start reading imzML...\n",
      "[1.929] ImzMLSpectrumImage created!\n",
      "[1.929] Parsing imzML started ...\n",
      "[2.111] SciLs 3D tag found\n",
      "[2.112] \t1 unique z positions found:\n",
      "0, [2.112] Parsing imzML: 0.182507s\n",
      "[2.112] Initialize placeholder images and spectra started ...\n",
      "[2.121] Initialize placeholder images and spectra: 0.0082368s\n",
      "[2.121] Load external data started ...\n",
      "[2.123] Load external data: 0.000982282s\n",
      "[2.123] Continuous Profile\n",
      "[2.125] Initialize image started ...\n",
      "[4.256] Initialize image: 0.154939s\n",
      "[4.363] ImzMLSpectrumImage destroyed!\n",
      "(1, 169, 224)\n",
      "(224, 169, 1)\n",
      "29693\n"
     ]
    }
   ],
   "source": [
    "from pyM2aia import M2aiaImageHelper\n",
    "from ctypes import CDLL\n",
    "import numpy as np\n",
    "import matplotlib.pyplot as plt\n",
    "from mpl_toolkits.mplot3d import Axes3D\n",
    "import torch\n",
    "from torch import nn\n",
    "from torch import optim\n",
    "import SimpleITK as sitk\n",
    "from pathlib import Path\n",
    "import sys\n",
    "\n",
    "lib = CDLL('libM2aiaCoreIO.so')\n",
    "image = \"ew_section3_pos.imzML\"\n",
    "params = \"m2PeakPicking.txt\"\n",
    "\n",
    "intensity_count = 0\n",
    "I = None\n",
    "pixel = None\n",
    "with M2aiaImageHelper(lib, image, params) as helper:\n",
    "    gen = helper.SpectrumIterator()\n",
    "    pixel = next(gen)[2]\n",
    "    intensity_count = len(pixel)\n",
    "    I = helper.GetImage(1000, 0.54, np.float32)\n",
    "A = sitk.GetArrayFromImage(I)\n",
    "x_size = A.shape[1]\n",
    "y_size = A.shape[2]\n",
    "print(A.shape)\n",
    "print(I.GetSize())\n",
    "print(intensity_count)  "
   ]
  },
  {
   "cell_type": "code",
   "execution_count": 2,
   "metadata": {},
   "outputs": [],
   "source": [
    "# Welford's online algorithm for calculating mean and variance\n",
    "\n",
    "# For a new value newValue, compute the new count, new mean, the new M2.\n",
    "# mean accumulates the mean of the entire dataset\n",
    "# M2 aggregates the squared distance from the mean\n",
    "# count aggregates the number of samples seen so far\n",
    "def update(existingAggregate, newValue):\n",
    "    (count, mean, M2) = existingAggregate\n",
    "    count += 1\n",
    "    delta = newValue - mean\n",
    "    mean += delta / count\n",
    "    delta2 = newValue - mean\n",
    "    M2 += delta * delta2\n",
    "    return (count, mean, M2)\n",
    "\n",
    "# Retrieve the mean, variance and sample variance from an aggregate\n",
    "def finalize(existingAggregate):\n",
    "    (count, mean, M2) = existingAggregate\n",
    "    if count < 2:\n",
    "        return float(\"nan\")\n",
    "    else:\n",
    "        (mean, variance, sampleVariance) = (mean, M2 / count, M2 / (count - 1))\n",
    "        return (mean, variance, sampleVariance)"
   ]
  },
  {
   "cell_type": "code",
   "execution_count": 3,
   "metadata": {},
   "outputs": [
    {
     "name": "stdout",
     "output_type": "stream",
     "text": [
      "[4.373] baseline-correction None\n",
      "[4.373] baseline-correction-hw 50\n",
      "[4.373] smoothing None\n",
      "[4.373] smoothing-hw 2\n",
      "[4.373] normalization None\n",
      "[4.373] pooling Maximum\n",
      "[4.373] tolerance 0\n",
      "[4.373] threads 24\n",
      "[4.373] Start reading imzML...\n",
      "[4.373] ImzMLSpectrumImage created!\n",
      "[4.373] Parsing imzML started ...\n",
      "[4.558] SciLs 3D tag found\n",
      "[4.559] \t1 unique z positions found:\n",
      "0, [4.559] Parsing imzML: 0.183243s\n",
      "[4.559] Initialize placeholder images and spectra started ...\n",
      "[4.569] Initialize placeholder images and spectra: 0.00835031s\n",
      "[4.569] Load external data started ...\n",
      "[4.570] Load external data: 0.000826114s\n",
      "[4.570] Continuous Profile\n",
      "[4.572] Initialize image started ...\n",
      "[6.693] Initialize image: 0.161646s\n",
      "[10.431] ImzMLSpectrumImage destroyed!\n",
      "[0.         0.09790998 0.09859938 ... 0.04207615 0.04146861 0.        ] [0.         0.00735758 0.00790624 ... 0.00170585 0.00177776 0.        ] [0.         0.00735784 0.00790652 ... 0.00170591 0.00177782 0.        ]\n"
     ]
    }
   ],
   "source": [
    "aggregate = [0, np.zeros((intensity_count)), np.zeros((intensity_count))]\n",
    "with M2aiaImageHelper(lib, image, params) as helper:\n",
    "    gen = helper.SpectrumIterator()\n",
    "    for data in gen:\n",
    "        i, xs, ys = data\n",
    "        aggregate = update(aggregate, ys)\n",
    "im_mean, im_variance, im_sampleVariance = finalize(aggregate)\n",
    "im_stddev = np.sqrt(im_sampleVariance)\n",
    "print(im_mean, im_variance, im_sampleVariance)"
   ]
  },
  {
   "cell_type": "code",
   "execution_count": 4,
   "metadata": {},
   "outputs": [
    {
     "name": "stdout",
     "output_type": "stream",
     "text": [
      "torch cuda version: 11.3\n",
      "cuda\n"
     ]
    }
   ],
   "source": [
    "print(f\"torch cuda version: {torch.version.cuda}\")\n",
    "device = torch.device('cuda' if torch.cuda.is_available() else 'cpu')\n",
    "print(device)"
   ]
  },
  {
   "cell_type": "code",
   "execution_count": 5,
   "metadata": {},
   "outputs": [],
   "source": [
    "# test_mean = np.arange(-1, 1, 0.1)\n",
    "# test_logvar = np.arange(-1, 1, 0.1)\n",
    "# test_mean, test_logvar = np.meshgrid(test_mean, test_logvar)\n",
    "# vals = -0.5*(1 + test_logvar - np.power(test_mean, 2) - np.exp(test_logvar))\n",
    "# plt.contourf(test_mean, test_logvar, vals)\n",
    "# plt.colorbar()\n",
    "# plt.xlabel(\"mean\")\n",
    "# plt.ylabel(\"logvar\")\n",
    "# print(np.exp(0))"
   ]
  },
  {
   "cell_type": "code",
   "execution_count": 6,
   "metadata": {},
   "outputs": [],
   "source": [
    "latent_size = 16\n",
    "class Vae(nn.Module):\n",
    "    def __init__(self):\n",
    "        super(Vae, self).__init__()\n",
    "\n",
    "        # encoder\n",
    "        self.enc1 = nn.Linear(intensity_count, intensity_count//8)\n",
    "        self.enc2 = nn.Linear(intensity_count//8, intensity_count//64)\n",
    "        self.enc3 = nn.Linear(intensity_count//64, latent_size)\n",
    "\n",
    "        # decoder\n",
    "        self.dec1 = nn.Linear(latent_size, intensity_count//64)\n",
    "        self.dec2 = nn.Linear(intensity_count//64, intensity_count//8)\n",
    "        self.dec3 = nn.Linear(intensity_count//8, intensity_count)\n",
    "\n",
    "    def encode(self, x):\n",
    "        x = torch.tanh(self.enc1(x))\n",
    "        x = torch.tanh(self.enc2(x))\n",
    "        x = self.enc3(x)\n",
    "        return x\n",
    "\n",
    "    def decode(self, x):\n",
    "        x = torch.tanh(self.dec1(x))\n",
    "        x = torch.tanh(self.dec2(x))\n",
    "        x = self.dec3(x)\n",
    "        return x\n",
    "\n",
    "    def forward(self, x):\n",
    "        # encoding\n",
    "        x = self.encode(x)\n",
    "\n",
    "        # decoding\n",
    "        x = self.decode(x)\n",
    "        return x\n",
    "\n",
    "def train(batch):\n",
    "    optimizer.zero_grad()\n",
    "    reconstruction = model(batch)\n",
    "    loss = loss_function(reconstruction, batch)\n",
    "    loss.backward()\n",
    "    optimizer.step()\n",
    "    return loss"
   ]
  },
  {
   "cell_type": "code",
   "execution_count": 7,
   "metadata": {},
   "outputs": [
    {
     "name": "stdout",
     "output_type": "stream",
     "text": [
      "2 GPUs\n",
      "model_params already exist? False\n",
      "model on cuda? True\n"
     ]
    }
   ],
   "source": [
    "model = Vae()\n",
    "if torch.cuda.device_count() > 1:\n",
    "    print(torch.cuda.device_count(), \"GPUs\")\n",
    "    model = nn.DataParallel(model)\n",
    "model.to(device)\n",
    "model_params = Path(\"/home/dbogacz/Development/pyM2aia/tests/model_params.pt\")\n",
    "print(f\"model_params already exist? {model_params.is_file()}\")\n",
    "if model_params.is_file():\n",
    "    model.load_state_dict(torch.load(model_params))\n",
    "print(f\"model on cuda? {next(model.parameters()).is_cuda}\")\n",
    "optimizer = optim.Adam(model.parameters())\n",
    "loss_function = nn.MSELoss()"
   ]
  },
  {
   "cell_type": "code",
   "execution_count": 8,
   "metadata": {},
   "outputs": [
    {
     "name": "stdout",
     "output_type": "stream",
     "text": [
      "[13.643] baseline-correction None\n",
      "[13.643] baseline-correction-hw 50\n",
      "[13.643] smoothing None\n",
      "[13.643] smoothing-hw 2\n",
      "[13.643] normalization None\n",
      "[13.643] pooling Maximum\n",
      "[13.643] tolerance 0\n",
      "[13.643] threads 24\n",
      "[13.644] Start reading imzML...\n",
      "[13.644] ImzMLSpectrumImage created!\n",
      "[13.644] Parsing imzML started ...\n",
      "[13.828] SciLs 3D tag found\n",
      "[13.828] \t1 unique z positions found:\n",
      "0, [13.829] Parsing imzML: 0.18282s\n",
      "[13.829] Initialize placeholder images and spectra started ...\n",
      "[13.839] Initialize placeholder images and spectra: 0.00831364s\n",
      "[13.839] Load external data started ...\n",
      "[13.840] Load external data: 0.000798229s\n",
      "[13.840] Continuous Profile\n",
      "[13.842] Initialize image started ...\n",
      "[15.929] Initialize image: 0.15938s\n",
      "     0: rec_loss: 16384340.0000 | kld_loss: 138.5375\n",
      "  1000: rec_loss: 12695333.0000 | kld_loss: 18167.3301\n",
      "  2000: rec_loss: 8931806.0000 | kld_loss: 30720.6914\n",
      "  3000: rec_loss: 9488076.0000 | kld_loss: 29810.6777\n",
      "  4000: rec_loss: 9359200.0000 | kld_loss: 30277.3613\n",
      "  5000: rec_loss: 9343006.0000 | kld_loss: 29668.1641\n",
      "  6000: rec_loss: 9611074.0000 | kld_loss: 30577.4492\n",
      "  7000: rec_loss: 9890646.0000 | kld_loss: 29235.8633\n",
      "  8000: rec_loss: 9825189.0000 | kld_loss: 26012.0918\n",
      "  9000: rec_loss: 9282340.0000 | kld_loss: 28859.9746\n",
      "[1892.674] ImzMLSpectrumImage destroyed!\n"
     ]
    }
   ],
   "source": [
    "iterations = 10000\n",
    "total_loss = []\n",
    "kld_loss = []\n",
    "rec_loss = []\n",
    "with M2aiaImageHelper(lib, image, params) as helper:\n",
    "\n",
    "    # training\n",
    "    batch_iter = helper.SpectrumRandomBatchIterator(512)\n",
    "    for i in range(iterations):\n",
    "        batch = next(batch_iter)\n",
    "        batch -= im_mean # data zero centering\n",
    "        batch /= (im_stddev + 1e-10) # data normalization\n",
    "        batch = torch.from_numpy(batch).to(device)\n",
    "        loss = train(batch)\n",
    "        \n",
    "        # visualization\n",
    "        total_loss.append(loss.item())\n",
    "\n",
    "        if i % (iterations//10) == 0:\n",
    "            print(f\"{i:6d}: loss: {loss.item():3.4f}\")\n",
    "    \n",
    "    # save learned model parameters\n",
    "    # torch.save(model.state_dict(), \"/home/dbogacz/Development/pyM2aia/tests/model_params.pt\")\n",
    "\n",
    "    # save encoded image to .nrrd file\n",
    "    imgData = np.zeros((1, x_size, y_size, latent_size))\n",
    "    gen = helper.SpectrumIterator()\n",
    "    for data in gen:\n",
    "        id, xs, ys = data\n",
    "        x, y, z = helper.GetPixelPosition(id)\n",
    "        ys -= im_mean # data zero centering\n",
    "        ys /= (im_stddev + 1e-10) # data normalization\n",
    "        ys = torch.unsqueeze(torch.from_numpy(ys).to(device), 0)\n",
    "        with torch.no_grad():\n",
    "            latent_vector = model.module.encode(ys)\n",
    "        imgData[z, y, x, :] = latent_vector.cpu().numpy()\n",
    "    im = sitk.GetImageFromArray(imgData)\n",
    "    sitk.WriteImage(im, \"/home/dbogacz/Development/pyM2aia/tests/worm_section3.nrrd\")"
   ]
  },
  {
   "cell_type": "code",
   "execution_count": 9,
   "metadata": {},
   "outputs": [
    {
     "data": {
      "text/plain": [
       "[<matplotlib.lines.Line2D at 0x7f2722e31910>]"
      ]
     },
     "execution_count": 9,
     "metadata": {},
     "output_type": "execute_result"
    },
    {
     "data": {
      "image/png": "[encoded data removed]",
      "text/plain": [
       "<Figure size 432x288 with 1 Axes>"
      ]
     },
     "metadata": {
      "needs_background": "light"
     },
     "output_type": "display_data"
    },
    {
     "data": {
      "image/png": "[encoded data removed]",
      "text/plain": [
       "<Figure size 432x288 with 1 Axes>"
      ]
     },
     "metadata": {
      "needs_background": "light"
     },
     "output_type": "display_data"
    },
    {
     "data": {
      "image/png": "[encoded data removed]",
      "text/plain": [
       "<Figure size 432x288 with 1 Axes>"
      ]
     },
     "metadata": {
      "needs_background": "light"
     },
     "output_type": "display_data"
    }
   ],
   "source": [
    "plt.figure(1)\n",
    "plt.plot(total_loss[::20])"
   ]
  },
  {
   "cell_type": "code",
   "execution_count": 10,
   "metadata": {},
   "outputs": [
    {
     "name": "stdout",
     "output_type": "stream",
     "text": [
      "[1893.280] baseline-correction None\n",
      "[1893.280] baseline-correction-hw 50\n",
      "[1893.280] smoothing None\n",
      "[1893.280] smoothing-hw 2\n",
      "[1893.280] normalization None\n",
      "[1893.280] pooling Maximum\n",
      "[1893.280] tolerance 0\n",
      "[1893.280] threads 24\n",
      "[1893.280] Start reading imzML...\n",
      "[1893.280] ImzMLSpectrumImage created!\n",
      "[1893.280] Parsing imzML started ...\n",
      "[1893.387] SciLs 3D tag found\n",
      "[1893.387] \t1 unique z positions found:\n",
      "0, [1893.387] Parsing imzML: 0.106653s\n",
      "[1893.387] Initialize placeholder images and spectra started ...\n",
      "[1893.397] Initialize placeholder images and spectra: 0.00857193s\n",
      "[1893.397] Load external data started ...\n",
      "[1893.398] Load external data: 0.000285806s\n",
      "[1893.398] Continuous Profile\n",
      "[1893.399] Initialize image started ...\n",
      "[1894.514] Initialize image: 0.118509s\n",
      "[1913.454] ImzMLSpectrumImage destroyed!\n"
     ]
    }
   ],
   "source": [
    "# eval on another imzML file\n",
    "image = \"ew_section1_pos.imzML\"\n",
    "\n",
    "aggregate = [0, np.zeros((intensity_count)), np.zeros((intensity_count))]\n",
    "with M2aiaImageHelper(lib, image, params) as helper:\n",
    "    gen = helper.SpectrumIterator()\n",
    "    for data in gen:\n",
    "        i, xs, ys = data\n",
    "        aggregate = update(aggregate, ys)\n",
    "    im_mean, im_variance, im_sampleVariance = finalize(aggregate)\n",
    "    im_stddev = np.sqrt(im_sampleVariance)\n",
    "\n",
    "    I = helper.GetImage(1000, 0.54, np.float32)\n",
    "    A = sitk.GetArrayFromImage(I)\n",
    "    x_size = A.shape[1]\n",
    "    y_size = A.shape[2]\n",
    "\n",
    "    imgData = np.zeros((1, x_size, y_size, latent_size))\n",
    "    gen = helper.SpectrumIterator()\n",
    "    for data in gen:\n",
    "        id, xs, ys = data\n",
    "        x, y, z = helper.GetPixelPosition(id)\n",
    "        ys -= im_mean # data zero centering\n",
    "        ys /= (im_stddev + 1e-10) # data normalization\n",
    "        ys = torch.unsqueeze(torch.from_numpy(ys).to(device), 0)\n",
    "        with torch.no_grad():\n",
    "            latent_vector = model.module.encode(ys)\n",
    "        imgData[z, y, x, :] = latent_vector.cpu().numpy()\n",
    "    im = sitk.GetImageFromArray(imgData)\n",
    "    sitk.WriteImage(im, \"/home/dbogacz/Development/pyM2aia/tests/worm_section1.nrrd\")"
   ]
  }
 ],
 "metadata": {
  "interpreter": {
   "hash": "3609d6b2ac9905c1d5bdc3fccc89e8c109823874775e11ba1923329c93e1b380"
  },
  "kernelspec": {
   "display_name": "Python 3.8.10 64-bit ('.venv': venv)",
   "name": "python3"
  },
  "language_info": {
   "codemirror_mode": {
    "name": "ipython",
    "version": 3
   },
   "file_extension": ".py",
   "mimetype": "text/x-python",
   "name": "python",
   "nbconvert_exporter": "python",
   "pygments_lexer": "ipython3",
   "version": "3.8.10"
  },
  "orig_nbformat": 4
 },
 "nbformat": 4,
 "nbformat_minor": 2
}
